{
 "cells": [
  {
   "cell_type": "markdown",
   "id": "ee2d70b2",
   "metadata": {
    "papermill": {
     "duration": 0.005908,
     "end_time": "2025-03-25T22:31:29.023854",
     "exception": false,
     "start_time": "2025-03-25T22:31:29.017946",
     "status": "completed"
    },
    "tags": []
   },
   "source": [
    "# Problem Overview"
   ]
  },
  {
   "cell_type": "markdown",
   "id": "b515f133",
   "metadata": {
    "papermill": {
     "duration": 0.004916,
     "end_time": "2025-03-25T22:31:29.034151",
     "exception": false,
     "start_time": "2025-03-25T22:31:29.029235",
     "status": "completed"
    },
    "tags": []
   },
   "source": [
    "The goal of this playground is to analyze metastatic cancer given image patches from pathology scans. Essentially, for each `id` in the set, we need to predict a probability whether there is a pixel of tumor tissue or not at a center 32x32px region.\n",
    "\n",
    "For this playground. I will be using a 3-layer CNN alongside a fully connected layer to predict the tumor pixel. While this is a smaller NN for cancer detection, it can start as a benchmark for larger models.\n",
    "\n",
    "Created with PyTorch."
   ]
  },
  {
   "cell_type": "markdown",
   "id": "e84d2037",
   "metadata": {
    "papermill": {
     "duration": 0.004864,
     "end_time": "2025-03-25T22:31:29.044133",
     "exception": false,
     "start_time": "2025-03-25T22:31:29.039269",
     "status": "completed"
    },
    "tags": []
   },
   "source": [
    "# Imports"
   ]
  },
  {
   "cell_type": "code",
   "execution_count": 1,
   "id": "c63c8871",
   "metadata": {
    "_cell_guid": "b1076dfc-b9ad-4769-8c92-a6c4dae69d19",
    "_uuid": "8f2839f25d086af736a60e9eeb907d3b93b6e0e5",
    "execution": {
     "iopub.execute_input": "2025-03-25T22:31:29.055732Z",
     "iopub.status.busy": "2025-03-25T22:31:29.055416Z",
     "iopub.status.idle": "2025-03-25T22:31:38.344705Z",
     "shell.execute_reply": "2025-03-25T22:31:38.343880Z"
    },
    "papermill": {
     "duration": 9.297391,
     "end_time": "2025-03-25T22:31:38.346617",
     "exception": false,
     "start_time": "2025-03-25T22:31:29.049226",
     "status": "completed"
    },
    "tags": []
   },
   "outputs": [],
   "source": [
    "import numpy as np \n",
    "import pandas as pd \n",
    "import torch\n",
    "import matplotlib.pyplot as plt\n",
    "import os\n",
    "import tifffile as tiff\n",
    "from torch.utils.data import Dataset, DataLoader, random_split, Subset\n",
    "from sklearn.model_selection import train_test_split\n",
    "from pathlib import Path\n",
    "from typing import Literal, Callable\n",
    "from PIL import Image\n",
    "import torchvision.transforms as transforms\n",
    "import torch.nn as nn\n",
    "from collections import Counter\n",
    "from tqdm.notebook import tqdm\n",
    "from torchinfo import summary\n",
    "from sklearn.metrics import precision_score, recall_score, f1_score\n",
    "import torchvision.models as models"
   ]
  },
  {
   "cell_type": "code",
   "execution_count": 2,
   "id": "3544b1d7",
   "metadata": {
    "execution": {
     "iopub.execute_input": "2025-03-25T22:31:38.362432Z",
     "iopub.status.busy": "2025-03-25T22:31:38.361935Z",
     "iopub.status.idle": "2025-03-25T22:31:38.422439Z",
     "shell.execute_reply": "2025-03-25T22:31:38.421558Z"
    },
    "papermill": {
     "duration": 0.067968,
     "end_time": "2025-03-25T22:31:38.424014",
     "exception": false,
     "start_time": "2025-03-25T22:31:38.356046",
     "status": "completed"
    },
    "tags": []
   },
   "outputs": [
    {
     "name": "stdout",
     "output_type": "stream",
     "text": [
      "cuda\n"
     ]
    }
   ],
   "source": [
    "device = torch.device(\"cuda\" if torch.cuda.is_available() else 'cpu')\n",
    "print(device)"
   ]
  },
  {
   "cell_type": "markdown",
   "id": "f6045788",
   "metadata": {
    "papermill": {
     "duration": 0.005042,
     "end_time": "2025-03-25T22:31:38.434508",
     "exception": false,
     "start_time": "2025-03-25T22:31:38.429466",
     "status": "completed"
    },
    "tags": []
   },
   "source": [
    "# Data EDA"
   ]
  },
  {
   "cell_type": "markdown",
   "id": "5af72b4f",
   "metadata": {
    "papermill": {
     "duration": 0.00512,
     "end_time": "2025-03-25T22:31:38.444878",
     "exception": false,
     "start_time": "2025-03-25T22:31:38.439758",
     "status": "completed"
    },
    "tags": []
   },
   "source": [
    "We will take a look at the data first to understand what we are working with, then creat our dataset and showcase some images from the dataset.\n",
    "\n",
    "There should be a healthy split of non-cancerous and cancerous tumor images. We should not have duplicates as well."
   ]
  },
  {
   "cell_type": "code",
   "execution_count": 3,
   "id": "f119930d",
   "metadata": {
    "execution": {
     "iopub.execute_input": "2025-03-25T22:31:38.456268Z",
     "iopub.status.busy": "2025-03-25T22:31:38.456037Z",
     "iopub.status.idle": "2025-03-25T22:31:38.938055Z",
     "shell.execute_reply": "2025-03-25T22:31:38.937104Z"
    },
    "papermill": {
     "duration": 0.489343,
     "end_time": "2025-03-25T22:31:38.939581",
     "exception": false,
     "start_time": "2025-03-25T22:31:38.450238",
     "status": "completed"
    },
    "tags": []
   },
   "outputs": [
    {
     "data": {
      "text/html": [
       "<div>\n",
       "<style scoped>\n",
       "    .dataframe tbody tr th:only-of-type {\n",
       "        vertical-align: middle;\n",
       "    }\n",
       "\n",
       "    .dataframe tbody tr th {\n",
       "        vertical-align: top;\n",
       "    }\n",
       "\n",
       "    .dataframe thead th {\n",
       "        text-align: right;\n",
       "    }\n",
       "</style>\n",
       "<table border=\"1\" class=\"dataframe\">\n",
       "  <thead>\n",
       "    <tr style=\"text-align: right;\">\n",
       "      <th></th>\n",
       "      <th>id</th>\n",
       "      <th>label</th>\n",
       "    </tr>\n",
       "  </thead>\n",
       "  <tbody>\n",
       "    <tr>\n",
       "      <th>0</th>\n",
       "      <td>f38a6374c348f90b587e046aac6079959adf3835</td>\n",
       "      <td>0</td>\n",
       "    </tr>\n",
       "    <tr>\n",
       "      <th>1</th>\n",
       "      <td>c18f2d887b7ae4f6742ee445113fa1aef383ed77</td>\n",
       "      <td>1</td>\n",
       "    </tr>\n",
       "    <tr>\n",
       "      <th>2</th>\n",
       "      <td>755db6279dae599ebb4d39a9123cce439965282d</td>\n",
       "      <td>0</td>\n",
       "    </tr>\n",
       "    <tr>\n",
       "      <th>3</th>\n",
       "      <td>bc3f0c64fb968ff4a8bd33af6971ecae77c75e08</td>\n",
       "      <td>0</td>\n",
       "    </tr>\n",
       "    <tr>\n",
       "      <th>4</th>\n",
       "      <td>068aba587a4950175d04c680d38943fd488d6a9d</td>\n",
       "      <td>0</td>\n",
       "    </tr>\n",
       "  </tbody>\n",
       "</table>\n",
       "</div>"
      ],
      "text/plain": [
       "                                         id  label\n",
       "0  f38a6374c348f90b587e046aac6079959adf3835      0\n",
       "1  c18f2d887b7ae4f6742ee445113fa1aef383ed77      1\n",
       "2  755db6279dae599ebb4d39a9123cce439965282d      0\n",
       "3  bc3f0c64fb968ff4a8bd33af6971ecae77c75e08      0\n",
       "4  068aba587a4950175d04c680d38943fd488d6a9d      0"
      ]
     },
     "execution_count": 3,
     "metadata": {},
     "output_type": "execute_result"
    }
   ],
   "source": [
    "dirname = '/kaggle/input/histopathologic-cancer-detection'\n",
    "\n",
    "train_df = pd.read_csv(f'{dirname}/train_labels.csv')\n",
    "\n",
    "train_df.head()"
   ]
  },
  {
   "cell_type": "code",
   "execution_count": 4,
   "id": "b99b6137",
   "metadata": {
    "execution": {
     "iopub.execute_input": "2025-03-25T22:31:38.951883Z",
     "iopub.status.busy": "2025-03-25T22:31:38.951613Z",
     "iopub.status.idle": "2025-03-25T22:31:38.972937Z",
     "shell.execute_reply": "2025-03-25T22:31:38.972106Z"
    },
    "papermill": {
     "duration": 0.028603,
     "end_time": "2025-03-25T22:31:38.974212",
     "exception": false,
     "start_time": "2025-03-25T22:31:38.945609",
     "status": "completed"
    },
    "tags": []
   },
   "outputs": [
    {
     "name": "stdout",
     "output_type": "stream",
     "text": [
      "No Cancer: 130908, Cancer: 89117\n"
     ]
    }
   ],
   "source": [
    "print(f\"No Cancer: {len(train_df[train_df['label'] == 0])}, Cancer: {len(train_df[train_df['label'] == 1])}\")"
   ]
  },
  {
   "cell_type": "code",
   "execution_count": 5,
   "id": "3f8952dc",
   "metadata": {
    "execution": {
     "iopub.execute_input": "2025-03-25T22:31:38.985948Z",
     "iopub.status.busy": "2025-03-25T22:31:38.985674Z",
     "iopub.status.idle": "2025-03-25T22:31:39.241108Z",
     "shell.execute_reply": "2025-03-25T22:31:39.240290Z"
    },
    "papermill": {
     "duration": 0.262631,
     "end_time": "2025-03-25T22:31:39.242409",
     "exception": false,
     "start_time": "2025-03-25T22:31:38.979778",
     "status": "completed"
    },
    "tags": []
   },
   "outputs": [
    {
     "data": {
      "image/png": "[encoded data removed]",
      "text/plain": [
       "<Figure size 800x500 with 1 Axes>"
      ]
     },
     "metadata": {},
     "output_type": "display_data"
    }
   ],
   "source": [
    "plt.figure(figsize=(8,5))\n",
    "train_df['label'].map({1: 'Cancer', 0: 'No Cancer'}).value_counts().plot(kind='bar', color=['gray', 'black'])\n",
    "plt.xlabel('Label')\n",
    "plt.ylabel('Count')\n",
    "plt.xticks(rotation=45)\n",
    "plt.tight_layout()\n",
    "plt.show()"
   ]
  },
  {
   "cell_type": "code",
   "execution_count": 6,
   "id": "a30b4d4b",
   "metadata": {
    "execution": {
     "iopub.execute_input": "2025-03-25T22:31:39.254909Z",
     "iopub.status.busy": "2025-03-25T22:31:39.254664Z",
     "iopub.status.idle": "2025-03-25T22:32:00.545771Z",
     "shell.execute_reply": "2025-03-25T22:32:00.544727Z"
    },
    "papermill": {
     "duration": 21.298811,
     "end_time": "2025-03-25T22:32:00.547209",
     "exception": false,
     "start_time": "2025-03-25T22:31:39.248398",
     "status": "completed"
    },
    "tags": []
   },
   "outputs": [
    {
     "name": "stdout",
     "output_type": "stream",
     "text": [
      "Example Files: ['d43c081bafa286f9c1f7e921883f26ceafebc912.tif', '092d0eedebce504847715ee046b6ad74b57599b4.tif', 'b0d2582c6218a8764323fc940b41312282b99bf4.tif', '187c99df762f13f99818e5593d4bab4c6577e7e3.tif', '7c5270c83837de5a5cbb2dca511559dc39d19d53.tif']\n",
      "Shape: (96, 96)\n"
     ]
    }
   ],
   "source": [
    "train_imgs = os.listdir(f'{dirname}/train')\n",
    "test_imgs = os.listdir(f'{dirname}/test')\n",
    "print(f'Example Files: {train_imgs[:5]}')\n",
    "print(f\"Shape: {Image.open(os.path.join(dirname, 'train', train_imgs[0])).convert('RGB').size}\")"
   ]
  },
  {
   "cell_type": "markdown",
   "id": "c35684d8",
   "metadata": {
    "papermill": {
     "duration": 0.005559,
     "end_time": "2025-03-25T22:32:00.558943",
     "exception": false,
     "start_time": "2025-03-25T22:32:00.553384",
     "status": "completed"
    },
    "tags": []
   },
   "source": [
    "From this we know a couple facts about the dataset:\n",
    "- About 60% of the dataset has no cancer, and 40% does.\n",
    "- We are dealing with 96x96 RGB `tif` images \n",
    "\n",
    "Now, we need to create our dataset, inspect the images for any patterns for our model, and then create our model"
   ]
  },
  {
   "cell_type": "markdown",
   "id": "c61df481",
   "metadata": {
    "papermill": {
     "duration": 0.005651,
     "end_time": "2025-03-25T22:32:00.570360",
     "exception": false,
     "start_time": "2025-03-25T22:32:00.564709",
     "status": "completed"
    },
    "tags": []
   },
   "source": [
    "## Dataset Creation"
   ]
  },
  {
   "cell_type": "code",
   "execution_count": 7,
   "id": "f152a873",
   "metadata": {
    "execution": {
     "iopub.execute_input": "2025-03-25T22:32:00.582488Z",
     "iopub.status.busy": "2025-03-25T22:32:00.582232Z",
     "iopub.status.idle": "2025-03-25T22:32:00.589044Z",
     "shell.execute_reply": "2025-03-25T22:32:00.588221Z"
    },
    "papermill": {
     "duration": 0.014283,
     "end_time": "2025-03-25T22:32:00.590289",
     "exception": false,
     "start_time": "2025-03-25T22:32:00.576006",
     "status": "completed"
    },
    "tags": []
   },
   "outputs": [],
   "source": [
    "class CancerDS(Dataset):\n",
    "    '''\n",
    "        Custom dataset for histopathologic cancer detection images\n",
    "\n",
    "        Args:\n",
    "            data_dir: root directory of image data\n",
    "            transform: transformation function to apply to the images\n",
    "            imgs: list of the image filenames \n",
    "            labels: list of the labels (0 (no cancer) or 1 (cancer))\n",
    "    '''\n",
    "    def __init__(self, data_dir: str = \"\", transform: Callable = None, d_type: Literal['train', 'test'] = 'train'):\n",
    "        self.data_dir = Path(data_dir)\n",
    "        self.transform = transform\n",
    "\n",
    "        # find images\n",
    "        image_dir = self.data_dir / d_type\n",
    "        if not image_dir.exists():\n",
    "            raise FileNotFoundError(f'Directory {image_dir} not found')\n",
    "    \n",
    "        self.imgs = list(image_dir.glob('*.tif'))\n",
    "\n",
    "        # find labels\n",
    "        labels_dir = self.data_dir / 'train_labels.csv'\n",
    "        if not labels_dir.exists():\n",
    "            raise FileNotFoundError(f'Directory {labels_dir} not found')\n",
    "\n",
    "        df = pd.read_csv(labels_dir).set_index('id')\n",
    "        self.labels = [df.loc[img.stem].values[0] for img in self.imgs]\n",
    "    \n",
    "    def __len__(self):\n",
    "        return len(self.imgs)\n",
    "    def __getitem__(self, idx):\n",
    "        # open image\n",
    "        img_path = self.imgs[idx]\n",
    "        img = Image.open(img_path).convert('RGB')\n",
    "        label = torch.tensor(self.labels[idx], dtype=torch.float32)\n",
    "\n",
    "        # apply transform if it exists\n",
    "        if self.transform:\n",
    "            img = self.transform(img)\n",
    "\n",
    "        # return image, label, and the image name (the ID)\n",
    "        img_id = img_path.stem\n",
    "        return img, label, img_id"
   ]
  },
  {
   "cell_type": "code",
   "execution_count": 8,
   "id": "f140b5c8",
   "metadata": {
    "execution": {
     "iopub.execute_input": "2025-03-25T22:32:00.603206Z",
     "iopub.status.busy": "2025-03-25T22:32:00.602985Z",
     "iopub.status.idle": "2025-03-25T22:32:09.334744Z",
     "shell.execute_reply": "2025-03-25T22:32:09.333938Z"
    },
    "papermill": {
     "duration": 8.740177,
     "end_time": "2025-03-25T22:32:09.336446",
     "exception": false,
     "start_time": "2025-03-25T22:32:00.596269",
     "status": "completed"
    },
    "tags": []
   },
   "outputs": [],
   "source": [
    "# Transform for training\n",
    "transform_train = transforms.Compose([\n",
    "    transforms.RandomHorizontalFlip(),\n",
    "    transforms.RandomVerticalFlip(),\n",
    "    transforms.ToTensor(),\n",
    "    transforms.Normalize(mean=[0.485, 0.456, 0.406], std=[0.229, 0.224, 0.225])\n",
    "])\n",
    "# Transform for testing\n",
    "transform_test = transforms.Compose([\n",
    "    transforms.ToTensor(),\n",
    "    transforms.Normalize(mean=[0.485, 0.456, 0.406], std=[0.229, 0.224, 0.225])\n",
    "])\n",
    "\n",
    "# create dataset and split into train, testing\n",
    "ds = CancerDS(dirname, transform_train, 'train')\n",
    "\n",
    "indices = np.arange(len(ds))\n",
    "train_indices, temp_indices = train_test_split(indices, test_size=0.3)\n",
    "test_indices, val_indices = train_test_split(temp_indices, test_size=0.5)\n",
    "\n",
    "train_ds = Subset(ds, train_indices)\n",
    "test_ds = Subset(ds, test_indices)\n",
    "val_ds = Subset(ds, val_indices)\n",
    "test_ds.dataset.transform = transform_test\n",
    "val_ds.dataset.transform = transform_test"
   ]
  },
  {
   "cell_type": "code",
   "execution_count": 9,
   "id": "e18142dc",
   "metadata": {
    "execution": {
     "iopub.execute_input": "2025-03-25T22:32:09.349634Z",
     "iopub.status.busy": "2025-03-25T22:32:09.349375Z",
     "iopub.status.idle": "2025-03-25T22:32:09.353628Z",
     "shell.execute_reply": "2025-03-25T22:32:09.352895Z"
    },
    "papermill": {
     "duration": 0.01193,
     "end_time": "2025-03-25T22:32:09.354888",
     "exception": false,
     "start_time": "2025-03-25T22:32:09.342958",
     "status": "completed"
    },
    "tags": []
   },
   "outputs": [
    {
     "name": "stdout",
     "output_type": "stream",
     "text": [
      "Training: 154017, Testing: 33004, Validation: 33004\n"
     ]
    }
   ],
   "source": [
    "print(f'Training: {len(train_ds)}, Testing: {len(test_ds)}, Validation: {len(val_ds)}')"
   ]
  },
  {
   "cell_type": "code",
   "execution_count": 10,
   "id": "abf052b1",
   "metadata": {
    "execution": {
     "iopub.execute_input": "2025-03-25T22:32:09.372411Z",
     "iopub.status.busy": "2025-03-25T22:32:09.372061Z",
     "iopub.status.idle": "2025-03-25T22:32:10.178232Z",
     "shell.execute_reply": "2025-03-25T22:32:10.176356Z"
    },
    "papermill": {
     "duration": 0.818835,
     "end_time": "2025-03-25T22:32:10.180167",
     "exception": false,
     "start_time": "2025-03-25T22:32:09.361332",
     "status": "completed"
    },
    "tags": []
   },
   "outputs": [
    {
     "name": "stdout",
     "output_type": "stream",
     "text": [
      "torch.Size([32, 3, 96, 96])\n"
     ]
    }
   ],
   "source": [
    "train_dl = DataLoader(train_ds, batch_size=32, shuffle=True, pin_memory=True, num_workers=4, prefetch_factor=4, persistent_workers=True)\n",
    "test_dl = DataLoader(test_ds, batch_size=32, shuffle=False, pin_memory=True, num_workers=4, prefetch_factor=4, persistent_workers=True)\n",
    "val_dl = DataLoader(val_ds, batch_size=32, shuffle=False, pin_memory=True, num_workers=4, prefetch_factor=4, persistent_workers=True)\n",
    "\n",
    "for indices in train_dl:\n",
    "    print(indices[0].shape)\n",
    "    break"
   ]
  },
  {
   "cell_type": "markdown",
   "id": "4a1af617",
   "metadata": {
    "papermill": {
     "duration": 0.007095,
     "end_time": "2025-03-25T22:32:10.195366",
     "exception": false,
     "start_time": "2025-03-25T22:32:10.188271",
     "status": "completed"
    },
    "tags": []
   },
   "source": [
    "## Example Images"
   ]
  },
  {
   "cell_type": "code",
   "execution_count": 11,
   "id": "1674b50e",
   "metadata": {
    "execution": {
     "iopub.execute_input": "2025-03-25T22:32:10.211234Z",
     "iopub.status.busy": "2025-03-25T22:32:10.210816Z",
     "iopub.status.idle": "2025-03-25T22:32:12.199051Z",
     "shell.execute_reply": "2025-03-25T22:32:12.197670Z"
    },
    "papermill": {
     "duration": 2.004224,
     "end_time": "2025-03-25T22:32:12.207234",
     "exception": false,
     "start_time": "2025-03-25T22:32:10.203010",
     "status": "completed"
    },
    "tags": []
   },
   "outputs": [
    {
     "data": {
      "image/png": "[encoded data removed]",
      "text/plain": [
       "<Figure size 640x480 with 5 Axes>"
      ]
     },
     "metadata": {},
     "output_type": "display_data"
    }
   ],
   "source": [
    "# showcasing a couple of the images from the dataset, without the normalization\n",
    "example = next(iter(train_dl))\n",
    "\n",
    "images = example[0]\n",
    "labels = example[1]\n",
    "\n",
    "fig, axes = plt.subplots(1, 5, sharex=True, sharey=True)\n",
    "mean = torch.tensor([0.485, 0.456, 0.406]).view(3, 1, 1)\n",
    "std = torch.tensor([0.229, 0.224, 0.225]).view(3, 1, 1)\n",
    "\n",
    "random_indices = torch.randint(low=0, high=32, size=(5,))\n",
    "for i, num in enumerate(random_indices):\n",
    "    # take out the normalization and reorganize so matplotlib can show the images\n",
    "    img = images[num]\n",
    "    img = img * std + mean\n",
    "    img = img.permute(1, 2, 0)\n",
    "    label = 'Cancer' if labels[num] == 1 else 'No Cancer'\n",
    "    \n",
    "    axes[i].set_title(label)\n",
    "    axes[i].imshow(img)\n",
    "    axes[i].axis('off')\n",
    "\n",
    "plt.tight_layout()\n",
    "plt.show()"
   ]
  },
  {
   "cell_type": "markdown",
   "id": "8f6fa559",
   "metadata": {
    "papermill": {
     "duration": 0.010946,
     "end_time": "2025-03-25T22:32:12.229942",
     "exception": false,
     "start_time": "2025-03-25T22:32:12.218996",
     "status": "completed"
    },
    "tags": []
   },
   "source": [
    "# Model Creation"
   ]
  },
  {
   "cell_type": "markdown",
   "id": "5d3384b9",
   "metadata": {
    "papermill": {
     "duration": 0.010625,
     "end_time": "2025-03-25T22:32:12.251104",
     "exception": false,
     "start_time": "2025-03-25T22:32:12.240479",
     "status": "completed"
    },
    "tags": []
   },
   "source": [
    "For this model, I chose to use 3 CNN layers, alongside fully connected layers for our classification purposes. Considering the limited GPU and CPU space, this will work well for our case.\n",
    "\n",
    "We also have training and validation datasets to further ensure this model can attain a decent accuracy, and to analyze whether the mode is overfitting / underfitting. The model uses:\n",
    "- Dropout layers for improving generalization / reducing overfitting\n",
    "- Early stopping for prevention of overfitting (only save the model that does better to also prevent)\n",
    "- Learning Rate Scheduler for avoiding local minimas (and better training results)"
   ]
  },
  {
   "cell_type": "code",
   "execution_count": 12,
   "id": "c23fcc6b",
   "metadata": {
    "execution": {
     "iopub.execute_input": "2025-03-25T22:32:12.271932Z",
     "iopub.status.busy": "2025-03-25T22:32:12.271550Z",
     "iopub.status.idle": "2025-03-25T22:32:12.279196Z",
     "shell.execute_reply": "2025-03-25T22:32:12.278446Z"
    },
    "papermill": {
     "duration": 0.019838,
     "end_time": "2025-03-25T22:32:12.280732",
     "exception": false,
     "start_time": "2025-03-25T22:32:12.260894",
     "status": "completed"
    },
    "tags": []
   },
   "outputs": [],
   "source": [
    "class CancerModel(nn.Module):\n",
    "    def __init__(self):\n",
    "        super(CancerModel, self).__init__()\n",
    "        self.convs = nn.Sequential(\n",
    "            nn.Conv2d(3, 32, kernel_size=3, padding=1),\n",
    "            nn.ReLU(),\n",
    "            nn.MaxPool2d(2, 2), # 32, 48 x 48\n",
    "\n",
    "            nn.Conv2d(32, 64, kernel_size=3, padding=1),\n",
    "            nn.ReLU(),\n",
    "            nn.MaxPool2d(2, 2), # 64, 24 x 24\n",
    "\n",
    "            nn.Conv2d(64, 128, kernel_size=3, padding=1),\n",
    "            nn.ReLU(),\n",
    "            nn.MaxPool2d(2, 2) # 128, 12 x 12\n",
    "        )\n",
    "\n",
    "        self.fc = nn.Sequential(\n",
    "            nn.Flatten(),\n",
    "            nn.Linear(128 * 12 * 12, 256),\n",
    "            nn.ReLU(),\n",
    "            nn.Dropout(0.5),\n",
    "            nn.Linear(256, 1),\n",
    "            nn.Sigmoid()\n",
    "        )\n",
    "\n",
    "    def forward(self, x):\n",
    "        x = self.convs(x)\n",
    "        x = self.fc(x)\n",
    "        return x"
   ]
  },
  {
   "cell_type": "code",
   "execution_count": 13,
   "id": "6dd82a4e",
   "metadata": {
    "execution": {
     "iopub.execute_input": "2025-03-25T22:32:12.305022Z",
     "iopub.status.busy": "2025-03-25T22:32:12.304764Z",
     "iopub.status.idle": "2025-03-25T22:32:13.038339Z",
     "shell.execute_reply": "2025-03-25T22:32:13.037372Z"
    },
    "papermill": {
     "duration": 0.74753,
     "end_time": "2025-03-25T22:32:13.039862",
     "exception": false,
     "start_time": "2025-03-25T22:32:12.292332",
     "status": "completed"
    },
    "tags": []
   },
   "outputs": [
    {
     "data": {
      "text/plain": [
       "==========================================================================================\n",
       "Layer (type:depth-idx)                   Output Shape              Param #\n",
       "==========================================================================================\n",
       "CancerModel                              [1, 1]                    --\n",
       "├─Sequential: 1-1                        [1, 128, 12, 12]          --\n",
       "│    └─Conv2d: 2-1                       [1, 32, 96, 96]           896\n",
       "│    └─ReLU: 2-2                         [1, 32, 96, 96]           --\n",
       "│    └─MaxPool2d: 2-3                    [1, 32, 48, 48]           --\n",
       "│    └─Conv2d: 2-4                       [1, 64, 48, 48]           18,496\n",
       "│    └─ReLU: 2-5                         [1, 64, 48, 48]           --\n",
       "│    └─MaxPool2d: 2-6                    [1, 64, 24, 24]           --\n",
       "│    └─Conv2d: 2-7                       [1, 128, 24, 24]          73,856\n",
       "│    └─ReLU: 2-8                         [1, 128, 24, 24]          --\n",
       "│    └─MaxPool2d: 2-9                    [1, 128, 12, 12]          --\n",
       "├─Sequential: 1-2                        [1, 1]                    --\n",
       "│    └─Flatten: 2-10                     [1, 18432]                --\n",
       "│    └─Linear: 2-11                      [1, 256]                  4,718,848\n",
       "│    └─ReLU: 2-12                        [1, 256]                  --\n",
       "│    └─Dropout: 2-13                     [1, 256]                  --\n",
       "│    └─Linear: 2-14                      [1, 1]                    257\n",
       "│    └─Sigmoid: 2-15                     [1, 1]                    --\n",
       "==========================================================================================\n",
       "Total params: 4,812,353\n",
       "Trainable params: 4,812,353\n",
       "Non-trainable params: 0\n",
       "Total mult-adds (M): 98.13\n",
       "==========================================================================================\n",
       "Input size (MB): 0.11\n",
       "Forward/backward pass size (MB): 4.13\n",
       "Params size (MB): 19.25\n",
       "Estimated Total Size (MB): 23.49\n",
       "=========================================================================================="
      ]
     },
     "execution_count": 13,
     "metadata": {},
     "output_type": "execute_result"
    }
   ],
   "source": [
    "model = CancerModel().to(device)\n",
    "optimizer = torch.optim.Adam(model.parameters(), lr=0.001)\n",
    "lr = torch.optim.lr_scheduler.ReduceLROnPlateau(optimizer, mode='min', factor=0.5, patience=5)\n",
    "\n",
    "params = {\n",
    "    'epochs': 25,\n",
    "    'optimizer': optimizer,\n",
    "    'lr_scheduler': lr,\n",
    "    'weight_path': 'cnn1_weights.pt',\n",
    "    'loss_fn': nn.BCELoss(),\n",
    "    'patience': 7,\n",
    "}\n",
    "\n",
    "summary(model, input_size=(1, 3, 96, 96))"
   ]
  },
  {
   "cell_type": "markdown",
   "id": "b1ca2d0e",
   "metadata": {
    "papermill": {
     "duration": 0.009839,
     "end_time": "2025-03-25T22:32:13.060667",
     "exception": false,
     "start_time": "2025-03-25T22:32:13.050828",
     "status": "completed"
    },
    "tags": []
   },
   "source": [
    "## Training / Testing of the Model"
   ]
  },
  {
   "cell_type": "code",
   "execution_count": 14,
   "id": "b0a18e12",
   "metadata": {
    "execution": {
     "iopub.execute_input": "2025-03-25T22:32:13.081128Z",
     "iopub.status.busy": "2025-03-25T22:32:13.080861Z",
     "iopub.status.idle": "2025-03-25T22:32:13.090392Z",
     "shell.execute_reply": "2025-03-25T22:32:13.089545Z"
    },
    "papermill": {
     "duration": 0.021332,
     "end_time": "2025-03-25T22:32:13.091776",
     "exception": false,
     "start_time": "2025-03-25T22:32:13.070444",
     "status": "completed"
    },
    "tags": []
   },
   "outputs": [],
   "source": [
    "def train(model, dl, loss_fn, opt, device):\n",
    "    model.train()\n",
    "    for batch, (X, y, _) in enumerate(dl):\n",
    "        X, y = X.to(device), y.to(device).float().unsqueeze(1)\n",
    "        pred = model(X)\n",
    "        loss = loss_fn(pred, y)\n",
    "\n",
    "        loss.backward()\n",
    "        opt.step()\n",
    "        opt.zero_grad()\n",
    "\n",
    "    return loss.item()\n",
    "\n",
    "def val(model, dl, loss_fn, device):\n",
    "    model.eval()\n",
    "    total_loss, corr = 0, 0\n",
    "    with torch.no_grad():\n",
    "        for X, y, _ in dl:\n",
    "            X, y = X.to(device), y.to(device).float().unsqueeze(1)\n",
    "            pred = model(X)\n",
    "            total_loss += loss_fn(pred, y).item() * X.size(0)\n",
    "            pred = (pred > 0.5).float() # binary output\n",
    "            corr += (pred == y).sum().item()\n",
    "    avg_loss = total_loss / len(dl.dataset)\n",
    "    accuracy = corr / len(dl.dataset)\n",
    "    return avg_loss, accuracy\n",
    "\n",
    "def train_model(model, train_dl, val_dl, params, device):\n",
    "    epochs = params['epochs']\n",
    "    optimizer = params['optimizer']\n",
    "    scheduler = params['lr_scheduler']\n",
    "    weight_path = params['weight_path']\n",
    "    loss_func = params['loss_fn']\n",
    "    patience = params['patience']\n",
    "    \n",
    "    best_loss = float('inf')\n",
    "    no_improve = 0\n",
    "    total_train_loss = []\n",
    "    total_val_loss = []\n",
    "    \n",
    "    for epoch in tqdm(range(epochs), desc='Training'):\n",
    "        # training \n",
    "        print(f'Epoch {epoch+1}/{epochs}')\n",
    "        train_loss = train(model, train_dl, loss_func, optimizer, device)\n",
    "        val_loss, val_acc = val(model, val_dl, loss_func, device)\n",
    "        print(f'Training Loss: {train_loss:.4f}, Validation Loss: {val_loss:.4f}, Accuracy: {val_acc:.4f}')\n",
    "        total_train_loss.append(train_loss)\n",
    "        total_val_loss.append(val_loss)\n",
    "\n",
    "        scheduler.step(val_loss)\n",
    "\n",
    "        if val_loss < best_loss:\n",
    "            best_loss = val_loss\n",
    "            no_improve = 0\n",
    "            torch.save(model.state_dict(), weight_path)\n",
    "            print('New best model.')\n",
    "        else:\n",
    "            no_improve += 1\n",
    "            if no_improve >= patience:\n",
    "                print('Model might be overfitting. Stopping early...')\n",
    "                break\n",
    "    return total_train_loss, total_val_loss"
   ]
  },
  {
   "cell_type": "code",
   "execution_count": 15,
   "id": "514235d9",
   "metadata": {
    "execution": {
     "iopub.execute_input": "2025-03-25T22:32:13.112070Z",
     "iopub.status.busy": "2025-03-25T22:32:13.111837Z",
     "iopub.status.idle": "2025-03-25T23:18:17.207211Z",
     "shell.execute_reply": "2025-03-25T23:18:17.205964Z"
    },
    "papermill": {
     "duration": 2764.118164,
     "end_time": "2025-03-25T23:18:17.219625",
     "exception": false,
     "start_time": "2025-03-25T22:32:13.101461",
     "status": "completed"
    },
    "tags": []
   },
   "outputs": [
    {
     "data": {
      "application/vnd.jupyter.widget-view+json": {
       "model_id": "7fe6d4a7461241fdac421e0ae8250082",
       "version_major": 2,
       "version_minor": 0
      },
      "text/plain": [
       "Training:   0%|          | 0/25 [00:00<?, ?it/s]"
      ]
     },
     "metadata": {},
     "output_type": "display_data"
    },
    {
     "name": "stdout",
     "output_type": "stream",
     "text": [
      "Epoch 1/25\n",
      "Training Loss: 0.0389, Validation Loss: 0.3231, Accuracy: 0.8738\n",
      "New best model.\n",
      "Epoch 2/25\n",
      "Training Loss: 0.2051, Validation Loss: 0.2391, Accuracy: 0.9077\n",
      "New best model.\n",
      "Epoch 3/25\n",
      "Training Loss: 0.6591, Validation Loss: 0.2360, Accuracy: 0.9130\n",
      "New best model.\n",
      "Epoch 4/25\n",
      "Training Loss: 0.1165, Validation Loss: 0.2169, Accuracy: 0.9190\n",
      "New best model.\n",
      "Epoch 5/25\n",
      "Training Loss: 0.2068, Validation Loss: 0.2208, Accuracy: 0.9125\n",
      "Epoch 6/25\n",
      "Training Loss: 0.2101, Validation Loss: 0.2391, Accuracy: 0.9217\n",
      "Epoch 7/25\n",
      "Training Loss: 0.0055, Validation Loss: 0.2142, Accuracy: 0.9230\n",
      "New best model.\n",
      "Epoch 8/25\n",
      "Training Loss: 0.2467, Validation Loss: 0.2218, Accuracy: 0.9249\n",
      "Epoch 9/25\n",
      "Training Loss: 0.0148, Validation Loss: 0.2557, Accuracy: 0.9152\n",
      "Epoch 10/25\n",
      "Training Loss: 0.4608, Validation Loss: 0.2428, Accuracy: 0.9203\n",
      "Epoch 11/25\n",
      "Training Loss: 0.0402, Validation Loss: 0.2769, Accuracy: 0.9247\n",
      "Epoch 12/25\n",
      "Training Loss: 0.0000, Validation Loss: 0.2990, Accuracy: 0.9119\n",
      "Epoch 13/25\n",
      "Training Loss: 0.0457, Validation Loss: 0.3154, Accuracy: 0.9226\n",
      "Epoch 14/25\n",
      "Training Loss: 0.0000, Validation Loss: 0.3611, Accuracy: 0.9273\n",
      "Model might be overfitting. Stopping early...\n"
     ]
    }
   ],
   "source": [
    "train_losses, val_losses = train_model(model, train_dl, val_dl, params, device) "
   ]
  },
  {
   "cell_type": "markdown",
   "id": "aa1e51d6",
   "metadata": {
    "papermill": {
     "duration": 0.010258,
     "end_time": "2025-03-25T23:18:17.240525",
     "exception": false,
     "start_time": "2025-03-25T23:18:17.230267",
     "status": "completed"
    },
    "tags": []
   },
   "source": [
    "## Model Outcomes"
   ]
  },
  {
   "cell_type": "markdown",
   "id": "86f88767",
   "metadata": {
    "papermill": {
     "duration": 0.010193,
     "end_time": "2025-03-25T23:18:17.260935",
     "exception": false,
     "start_time": "2025-03-25T23:18:17.250742",
     "status": "completed"
    },
    "tags": []
   },
   "source": [
    "We can check the accuracy and how precise the model is with the loss and accuracy. However considering our dataset consists of about 40% cancer tumors, and 60% non-cancerous (a little imbalance will give a higher accuracy than wanted), we should use another metric to be more precise.\n",
    "- Recall for missing cancer cases\n",
    "- Precision for understanding false positives"
   ]
  },
  {
   "cell_type": "code",
   "execution_count": 16,
   "id": "67802ff5",
   "metadata": {
    "execution": {
     "iopub.execute_input": "2025-03-25T23:18:17.283186Z",
     "iopub.status.busy": "2025-03-25T23:18:17.282844Z",
     "iopub.status.idle": "2025-03-25T23:18:38.765213Z",
     "shell.execute_reply": "2025-03-25T23:18:38.764181Z"
    },
    "papermill": {
     "duration": 21.495403,
     "end_time": "2025-03-25T23:18:38.766545",
     "exception": false,
     "start_time": "2025-03-25T23:18:17.271142",
     "status": "completed"
    },
    "tags": []
   },
   "outputs": [
    {
     "name": "stdout",
     "output_type": "stream",
     "text": [
      "Loss: 0.1711, Accuracy: 0.9353\n"
     ]
    }
   ],
   "source": [
    "best_model = CancerModel().to(device)\n",
    "# best_model.load_state_dict(torch.load(params['weight_path'])) # -> if just trained data\n",
    "best_model.load_state_dict(torch.load('/kaggle/input/cnn-cancerdetection-weights/cnn1_weights.pt', weights_only=True), strict=True) # when uploading weights previously trained\n",
    "best_model.eval()\n",
    "best_loss, best_acc = val(best_model, val_dl, params['loss_fn'], device)\n",
    "print(f'Loss: {best_loss:.4}, Accuracy: {best_acc:.4}')"
   ]
  },
  {
   "cell_type": "code",
   "execution_count": 17,
   "id": "dab81950",
   "metadata": {
    "execution": {
     "iopub.execute_input": "2025-03-25T23:18:38.790885Z",
     "iopub.status.busy": "2025-03-25T23:18:38.790588Z",
     "iopub.status.idle": "2025-03-25T23:19:01.359177Z",
     "shell.execute_reply": "2025-03-25T23:19:01.357939Z"
    },
    "papermill": {
     "duration": 22.582017,
     "end_time": "2025-03-25T23:19:01.360790",
     "exception": false,
     "start_time": "2025-03-25T23:18:38.778773",
     "status": "completed"
    },
    "tags": []
   },
   "outputs": [
    {
     "name": "stdout",
     "output_type": "stream",
     "text": [
      "Precision: 0.9365, Recall: 0.9009, F1: 0.9184\n"
     ]
    }
   ],
   "source": [
    "all_predictions = []\n",
    "all_labels = []\n",
    "\n",
    "with torch.no_grad():\n",
    "    for X, y, _ in val_dl:\n",
    "        X = X.to(device)\n",
    "        y = y.to(device)\n",
    "        preds = (best_model(X) > 0.5).float()\n",
    "\n",
    "        all_predictions.extend(preds.cpu().numpy())\n",
    "        all_labels.extend(y.cpu().numpy())\n",
    "\n",
    "prec = precision_score(all_labels, all_predictions)\n",
    "recall = recall_score(all_labels, all_predictions)\n",
    "f1 = f1_score(all_labels, all_predictions)\n",
    "\n",
    "print(f'Precision: {prec:.4f}, Recall: {recall:.4f}, F1: {f1:.4f}')"
   ]
  },
  {
   "cell_type": "code",
   "execution_count": 18,
   "id": "08f089db",
   "metadata": {
    "execution": {
     "iopub.execute_input": "2025-03-25T23:19:01.383575Z",
     "iopub.status.busy": "2025-03-25T23:19:01.383319Z",
     "iopub.status.idle": "2025-03-25T23:19:01.613581Z",
     "shell.execute_reply": "2025-03-25T23:19:01.612747Z"
    },
    "papermill": {
     "duration": 0.243088,
     "end_time": "2025-03-25T23:19:01.615022",
     "exception": false,
     "start_time": "2025-03-25T23:19:01.371934",
     "status": "completed"
    },
    "tags": []
   },
   "outputs": [
    {
     "data": {
      "text/plain": [
       "<matplotlib.legend.Legend at 0x7c00e8972a10>"
      ]
     },
     "execution_count": 18,
     "metadata": {},
     "output_type": "execute_result"
    },
    {
     "data": {
      "image/png": "[encoded data removed]",
      "text/plain": [
       "<Figure size 640x480 with 1 Axes>"
      ]
     },
     "metadata": {},
     "output_type": "display_data"
    }
   ],
   "source": [
    "plt.plot(train_losses, label='Train Loss')\n",
    "plt.plot(val_losses, label='Val Loss')\n",
    "plt.xlabel('Epoch')\n",
    "plt.ylabel('Loss')\n",
    "plt.title('Train vs Val Loss')\n",
    "plt.legend()"
   ]
  },
  {
   "cell_type": "markdown",
   "id": "5e43cb5f",
   "metadata": {
    "papermill": {
     "duration": 0.011165,
     "end_time": "2025-03-25T23:19:01.638124",
     "exception": false,
     "start_time": "2025-03-25T23:19:01.626959",
     "status": "completed"
    },
    "tags": []
   },
   "source": [
    "From this, we can see a couple things\n",
    "- When we detect cancer, we are 93% correct (7% false positive rate)\n",
    "- Catch 90% of all cancer cases (10% false negative rate)\n",
    "- 92% f1 score (well balanced)\n",
    "- After Epoch 6, we started to overfit our model\n",
    "\n",
    "Honestly this was not as good as what we were hoping for, as an AI in the medical field should not give out false positives 7% of the time, and failing to notice cancerous tumors 10% of the time.\n",
    "\n",
    "There is room for improvement though, such as fine-tuning an existing model like **Resnet50** on the dataset, creating a deeper and more intricate CancerModel, or creating an ensemble method between the two.  "
   ]
  },
  {
   "cell_type": "markdown",
   "id": "fe8409ef",
   "metadata": {
    "papermill": {
     "duration": 0.010899,
     "end_time": "2025-03-25T23:19:01.660168",
     "exception": false,
     "start_time": "2025-03-25T23:19:01.649269",
     "status": "completed"
    },
    "tags": []
   },
   "source": [
    "# Submission / Conclusion"
   ]
  },
  {
   "cell_type": "markdown",
   "id": "2981c028",
   "metadata": {
    "papermill": {
     "duration": 0.010829,
     "end_time": "2025-03-25T23:19:01.682124",
     "exception": false,
     "start_time": "2025-03-25T23:19:01.671295",
     "status": "completed"
    },
    "tags": []
   },
   "source": [
    "The final result of this dataset was a score of 0.81, or 81% overall. Some improvements could be:\n",
    "- Fine-tuning of more intricate image classification models\n",
    "- More Pre-processing of images\n",
    "- Modifying the CNN with more layers for feature extraction and perhaps more dropout layers for more generalization\n",
    "\n",
    "I attempted to fine-tune a Resnet50 model on the data as well but it took far longer than wanted and did not show any promising results."
   ]
  },
  {
   "cell_type": "code",
   "execution_count": 19,
   "id": "6c4ff43f",
   "metadata": {
    "execution": {
     "iopub.execute_input": "2025-03-25T23:19:01.705481Z",
     "iopub.status.busy": "2025-03-25T23:19:01.705196Z",
     "iopub.status.idle": "2025-03-25T23:19:01.709940Z",
     "shell.execute_reply": "2025-03-25T23:19:01.709238Z"
    },
    "papermill": {
     "duration": 0.017999,
     "end_time": "2025-03-25T23:19:01.711333",
     "exception": false,
     "start_time": "2025-03-25T23:19:01.693334",
     "status": "completed"
    },
    "tags": []
   },
   "outputs": [],
   "source": [
    "class TestDataset(Dataset):\n",
    "    def __init__(self, test_dir, transform=None):\n",
    "        self.test_dir = Path(test_dir)\n",
    "        self.image_ids = sorted(os.listdir(self.test_dir))\n",
    "        self.transform = transform\n",
    "\n",
    "    def __len__(self):\n",
    "        return len(self.image_ids)\n",
    "\n",
    "    def __getitem__(self, idx):\n",
    "        image_id = self.image_ids[idx]\n",
    "        img_path = self.test_dir / image_id\n",
    "        img = Image.open(img_path).convert(\"RGB\")\n",
    "        if self.transform:\n",
    "            img = self.transform(img)\n",
    "        return img, image_id"
   ]
  },
  {
   "cell_type": "code",
   "execution_count": 20,
   "id": "c058ca6c",
   "metadata": {
    "execution": {
     "iopub.execute_input": "2025-03-25T23:19:01.734577Z",
     "iopub.status.busy": "2025-03-25T23:19:01.734366Z",
     "iopub.status.idle": "2025-03-25T23:30:12.596217Z",
     "shell.execute_reply": "2025-03-25T23:30:12.595344Z"
    },
    "papermill": {
     "duration": 670.942581,
     "end_time": "2025-03-25T23:30:12.665219",
     "exception": false,
     "start_time": "2025-03-25T23:19:01.722638",
     "status": "completed"
    },
    "tags": []
   },
   "outputs": [
    {
     "data": {
      "text/html": [
       "<div>\n",
       "<style scoped>\n",
       "    .dataframe tbody tr th:only-of-type {\n",
       "        vertical-align: middle;\n",
       "    }\n",
       "\n",
       "    .dataframe tbody tr th {\n",
       "        vertical-align: top;\n",
       "    }\n",
       "\n",
       "    .dataframe thead th {\n",
       "        text-align: right;\n",
       "    }\n",
       "</style>\n",
       "<table border=\"1\" class=\"dataframe\">\n",
       "  <thead>\n",
       "    <tr style=\"text-align: right;\">\n",
       "      <th></th>\n",
       "      <th>id</th>\n",
       "      <th>label</th>\n",
       "    </tr>\n",
       "  </thead>\n",
       "  <tbody>\n",
       "    <tr>\n",
       "      <th>0</th>\n",
       "      <td>00006537328c33e284c973d7b39d340809f7271b</td>\n",
       "      <td>1.0</td>\n",
       "    </tr>\n",
       "    <tr>\n",
       "      <th>1</th>\n",
       "      <td>0000ec92553fda4ce39889f9226ace43cae3364e</td>\n",
       "      <td>1.0</td>\n",
       "    </tr>\n",
       "    <tr>\n",
       "      <th>2</th>\n",
       "      <td>00024a6dee61f12f7856b0fc6be20bc7a48ba3d2</td>\n",
       "      <td>1.0</td>\n",
       "    </tr>\n",
       "    <tr>\n",
       "      <th>3</th>\n",
       "      <td>000253dfaa0be9d0d100283b22284ab2f6b643f6</td>\n",
       "      <td>0.0</td>\n",
       "    </tr>\n",
       "    <tr>\n",
       "      <th>4</th>\n",
       "      <td>000270442cc15af719583a8172c87cd2bd9c7746</td>\n",
       "      <td>0.0</td>\n",
       "    </tr>\n",
       "  </tbody>\n",
       "</table>\n",
       "</div>"
      ],
      "text/plain": [
       "                                         id  label\n",
       "0  00006537328c33e284c973d7b39d340809f7271b    1.0\n",
       "1  0000ec92553fda4ce39889f9226ace43cae3364e    1.0\n",
       "2  00024a6dee61f12f7856b0fc6be20bc7a48ba3d2    1.0\n",
       "3  000253dfaa0be9d0d100283b22284ab2f6b643f6    0.0\n",
       "4  000270442cc15af719583a8172c87cd2bd9c7746    0.0"
      ]
     },
     "execution_count": 20,
     "metadata": {},
     "output_type": "execute_result"
    }
   ],
   "source": [
    "test_dir = f\"{dirname}/test\"\n",
    "batch_size = 64\n",
    "\n",
    "test_dataset = TestDataset(test_dir, transform=transform_test)\n",
    "test_loader = DataLoader(test_dataset, batch_size=batch_size, shuffle=False)\n",
    "\n",
    "best_model.eval()\n",
    "final_preds = []\n",
    "final_ids = []\n",
    "\n",
    "with torch.no_grad():\n",
    "    for images, ids in test_loader:\n",
    "        images = images.to(device)\n",
    "        outputs = best_model(images)\n",
    "        preds = (outputs > 0.5).float().squeeze().cpu().numpy()\n",
    "\n",
    "        if preds.ndim == 0:\n",
    "            preds = [preds.item()]\n",
    "        else:\n",
    "            preds = preds.tolist()\n",
    "\n",
    "        final_preds.extend(preds)\n",
    "        final_ids.extend([i.split('.')[0] for i in ids])\n",
    "\n",
    "results_df = pd.DataFrame({\n",
    "    'id': final_ids,\n",
    "    'label': final_preds\n",
    "})\n",
    "\n",
    "results_df.to_csv('submission.csv', index=False)\n",
    "results_df.head()"
   ]
  }
 ],
 "metadata": {
  "kaggle": {
   "accelerator": "gpu",
   "dataSources": [
    {
     "databundleVersionId": 862157,
     "sourceId": 11848,
     "sourceType": "competition"
    },
    {
     "datasetId": 6966331,
     "sourceId": 11163745,
     "sourceType": "datasetVersion"
    }
   ],
   "dockerImageVersionId": 30918,
   "isGpuEnabled": true,
   "isInternetEnabled": true,
   "language": "python",
   "sourceType": "notebook"
  },
  "kernelspec": {
   "display_name": "Python 3",
   "language": "python",
   "name": "python3"
  },
  "language_info": {
   "codemirror_mode": {
    "name": "ipython",
    "version": 3
   },
   "file_extension": ".py",
   "mimetype": "text/x-python",
   "name": "python",
   "nbconvert_exporter": "python",
   "pygments_lexer": "ipython3",
   "version": "3.10.12"
  },
  "papermill": {
   "default_parameters": {},
   "duration": 3529.393852,
   "end_time": "2025-03-25T23:30:15.777085",
   "environment_variables": {},
   "exception": null,
   "input_path": "__notebook__.ipynb",
   "output_path": "__notebook__.ipynb",
   "parameters": {},
   "start_time": "2025-03-25T22:31:26.383233",
   "version": "2.6.0"
  },
  "widgets": {
   "application/vnd.jupyter.widget-state+json": {
    "state": {
     "01eddac5c30d46aaae9cda89317dc847": {
      "model_module": "@jupyter-widgets/controls",
      "model_module_version": "2.0.0",
      "model_name": "HTMLModel",
      "state": {
       "_dom_classes": [],
       "_model_module": "@jupyter-widgets/controls",
       "_model_module_version": "2.0.0",
       "_model_name": "HTMLModel",
       "_view_count": null,
       "_view_module": "@jupyter-widgets/controls",
       "_view_module_version": "2.0.0",
       "_view_name": "HTMLView",
       "description": "",
       "description_allow_html": false,
       "layout": "IPY_MODEL_a78229d14a8b462faf45940fc72c151d",
       "placeholder": "​",
       "style": "IPY_MODEL_ce39792aa4c44eeabf4058065fa50cc6",
       "tabbable": null,
       "tooltip": null,
       "value": "Training:  52%"
      }
     },
     "2def4d72df874579b215f7a28213d490": {
      "model_module": "@jupyter-widgets/controls",
      "model_module_version": "2.0.0",
      "model_name": "HTMLStyleModel",
      "state": {
       "_model_module": "@jupyter-widgets/controls",
       "_model_module_version": "2.0.0",
       "_model_name": "HTMLStyleModel",
       "_view_count": null,
       "_view_module": "@jupyter-widgets/base",
       "_view_module_version": "2.0.0",
       "_view_name": "StyleView",
       "background": null,
       "description_width": "",
       "font_size": null,
       "text_color": null
      }
     },
     "4487673b5c804e0b922940f9d9e229ac": {
      "model_module": "@jupyter-widgets/controls",
      "model_module_version": "2.0.0",
      "model_name": "HTMLModel",
      "state": {
       "_dom_classes": [],
       "_model_module": "@jupyter-widgets/controls",
       "_model_module_version": "2.0.0",
       "_model_name": "HTMLModel",
       "_view_count": null,
       "_view_module": "@jupyter-widgets/controls",
       "_view_module_version": "2.0.0",
       "_view_name": "HTMLView",
       "description": "",
       "description_allow_html": false,
       "layout": "IPY_MODEL_a59c49a76c6f42fe99c5d72aa6e216b4",
       "placeholder": "​",
       "style": "IPY_MODEL_2def4d72df874579b215f7a28213d490",
       "tabbable": null,
       "tooltip": null,
       "value": " 13/25 [46:04&lt;34:02, 170.17s/it]"
      }
     },
     "5775e095688e4e7a93bdf98b4b0ef79c": {
      "model_module": "@jupyter-widgets/controls",
      "model_module_version": "2.0.0",
      "model_name": "FloatProgressModel",
      "state": {
       "_dom_classes": [],
       "_model_module": "@jupyter-widgets/controls",
       "_model_module_version": "2.0.0",
       "_model_name": "FloatProgressModel",
       "_view_count": null,
       "_view_module": "@jupyter-widgets/controls",
       "_view_module_version": "2.0.0",
       "_view_name": "ProgressView",
       "bar_style": "danger",
       "description": "",
       "description_allow_html": false,
       "layout": "IPY_MODEL_9944f14cdd4d47078abf7551946cae17",
       "max": 25.0,
       "min": 0.0,
       "orientation": "horizontal",
       "style": "IPY_MODEL_de3a50068c964a9da856835cf2de596d",
       "tabbable": null,
       "tooltip": null,
       "value": 13.0
      }
     },
     "6e509212b49e422ca39a6b293302aaa1": {
      "model_module": "@jupyter-widgets/base",
      "model_module_version": "2.0.0",
      "model_name": "LayoutModel",
      "state": {
       "_model_module": "@jupyter-widgets/base",
       "_model_module_version": "2.0.0",
       "_model_name": "LayoutModel",
       "_view_count": null,
       "_view_module": "@jupyter-widgets/base",
       "_view_module_version": "2.0.0",
       "_view_name": "LayoutView",
       "align_content": null,
       "align_items": null,
       "align_self": null,
       "border_bottom": null,
       "border_left": null,
       "border_right": null,
       "border_top": null,
       "bottom": null,
       "display": null,
       "flex": null,
       "flex_flow": null,
       "grid_area": null,
       "grid_auto_columns": null,
       "grid_auto_flow": null,
       "grid_auto_rows": null,
       "grid_column": null,
       "grid_gap": null,
       "grid_row": null,
       "grid_template_areas": null,
       "grid_template_columns": null,
       "grid_template_rows": null,
       "height": null,
       "justify_content": null,
       "justify_items": null,
       "left": null,
       "margin": null,
       "max_height": null,
       "max_width": null,
       "min_height": null,
       "min_width": null,
       "object_fit": null,
       "object_position": null,
       "order": null,
       "overflow": null,
       "padding": null,
       "right": null,
       "top": null,
       "visibility": null,
       "width": null
      }
     },
     "7fe6d4a7461241fdac421e0ae8250082": {
      "model_module": "@jupyter-widgets/controls",
      "model_module_version": "2.0.0",
      "model_name": "HBoxModel",
      "state": {
       "_dom_classes": [],
       "_model_module": "@jupyter-widgets/controls",
       "_model_module_version": "2.0.0",
       "_model_name": "HBoxModel",
       "_view_count": null,
       "_view_module": "@jupyter-widgets/controls",
       "_view_module_version": "2.0.0",
       "_view_name": "HBoxView",
       "box_style": "",
       "children": [
        "IPY_MODEL_01eddac5c30d46aaae9cda89317dc847",
        "IPY_MODEL_5775e095688e4e7a93bdf98b4b0ef79c",
        "IPY_MODEL_4487673b5c804e0b922940f9d9e229ac"
       ],
       "layout": "IPY_MODEL_6e509212b49e422ca39a6b293302aaa1",
       "tabbable": null,
       "tooltip": null
      }
     },
     "9944f14cdd4d47078abf7551946cae17": {
      "model_module": "@jupyter-widgets/base",
      "model_module_version": "2.0.0",
      "model_name": "LayoutModel",
      "state": {
       "_model_module": "@jupyter-widgets/base",
       "_model_module_version": "2.0.0",
       "_model_name": "LayoutModel",
       "_view_count": null,
       "_view_module": "@jupyter-widgets/base",
       "_view_module_version": "2.0.0",
       "_view_name": "LayoutView",
       "align_content": null,
       "align_items": null,
       "align_self": null,
       "border_bottom": null,
       "border_left": null,
       "border_right": null,
       "border_top": null,
       "bottom": null,
       "display": null,
       "flex": null,
       "flex_flow": null,
       "grid_area": null,
       "grid_auto_columns": null,
       "grid_auto_flow": null,
       "grid_auto_rows": null,
       "grid_column": null,
       "grid_gap": null,
       "grid_row": null,
       "grid_template_areas": null,
       "grid_template_columns": null,
       "grid_template_rows": null,
       "height": null,
       "justify_content": null,
       "justify_items": null,
       "left": null,
       "margin": null,
       "max_height": null,
       "max_width": null,
       "min_height": null,
       "min_width": null,
       "object_fit": null,
       "object_position": null,
       "order": null,
       "overflow": null,
       "padding": null,
       "right": null,
       "top": null,
       "visibility": null,
       "width": null
      }
     },
     "a59c49a76c6f42fe99c5d72aa6e216b4": {
      "model_module": "@jupyter-widgets/base",
      "model_module_version": "2.0.0",
      "model_name": "LayoutModel",
      "state": {
       "_model_module": "@jupyter-widgets/base",
       "_model_module_version": "2.0.0",
       "_model_name": "LayoutModel",
       "_view_count": null,
       "_view_module": "@jupyter-widgets/base",
       "_view_module_version": "2.0.0",
       "_view_name": "LayoutView",
       "align_content": null,
       "align_items": null,
       "align_self": null,
       "border_bottom": null,
       "border_left": null,
       "border_right": null,
       "border_top": null,
       "bottom": null,
       "display": null,
       "flex": null,
       "flex_flow": null,
       "grid_area": null,
       "grid_auto_columns": null,
       "grid_auto_flow": null,
       "grid_auto_rows": null,
       "grid_column": null,
       "grid_gap": null,
       "grid_row": null,
       "grid_template_areas": null,
       "grid_template_columns": null,
       "grid_template_rows": null,
       "height": null,
       "justify_content": null,
       "justify_items": null,
       "left": null,
       "margin": null,
       "max_height": null,
       "max_width": null,
       "min_height": null,
       "min_width": null,
       "object_fit": null,
       "object_position": null,
       "order": null,
       "overflow": null,
       "padding": null,
       "right": null,
       "top": null,
       "visibility": null,
       "width": null
      }
     },
     "a78229d14a8b462faf45940fc72c151d": {
      "model_module": "@jupyter-widgets/base",
      "model_module_version": "2.0.0",
      "model_name": "LayoutModel",
      "state": {
       "_model_module": "@jupyter-widgets/base",
       "_model_module_version": "2.0.0",
       "_model_name": "LayoutModel",
       "_view_count": null,
       "_view_module": "@jupyter-widgets/base",
       "_view_module_version": "2.0.0",
       "_view_name": "LayoutView",
       "align_content": null,
       "align_items": null,
       "align_self": null,
       "border_bottom": null,
       "border_left": null,
       "border_right": null,
       "border_top": null,
       "bottom": null,
       "display": null,
       "flex": null,
       "flex_flow": null,
       "grid_area": null,
       "grid_auto_columns": null,
       "grid_auto_flow": null,
       "grid_auto_rows": null,
       "grid_column": null,
       "grid_gap": null,
       "grid_row": null,
       "grid_template_areas": null,
       "grid_template_columns": null,
       "grid_template_rows": null,
       "height": null,
       "justify_content": null,
       "justify_items": null,
       "left": null,
       "margin": null,
       "max_height": null,
       "max_width": null,
       "min_height": null,
       "min_width": null,
       "object_fit": null,
       "object_position": null,
       "order": null,
       "overflow": null,
       "padding": null,
       "right": null,
       "top": null,
       "visibility": null,
       "width": null
      }
     },
     "ce39792aa4c44eeabf4058065fa50cc6": {
      "model_module": "@jupyter-widgets/controls",
      "model_module_version": "2.0.0",
      "model_name": "HTMLStyleModel",
      "state": {
       "_model_module": "@jupyter-widgets/controls",
       "_model_module_version": "2.0.0",
       "_model_name": "HTMLStyleModel",
       "_view_count": null,
       "_view_module": "@jupyter-widgets/base",
       "_view_module_version": "2.0.0",
       "_view_name": "StyleView",
       "background": null,
       "description_width": "",
       "font_size": null,
       "text_color": null
      }
     },
     "de3a50068c964a9da856835cf2de596d": {
      "model_module": "@jupyter-widgets/controls",
      "model_module_version": "2.0.0",
      "model_name": "ProgressStyleModel",
      "state": {
       "_model_module": "@jupyter-widgets/controls",
       "_model_module_version": "2.0.0",
       "_model_name": "ProgressStyleModel",
       "_view_count": null,
       "_view_module": "@jupyter-widgets/base",
       "_view_module_version": "2.0.0",
       "_view_name": "StyleView",
       "bar_color": null,
       "description_width": ""
      }
     }
    },
    "version_major": 2,
    "version_minor": 0
   }
  }
 },
 "nbformat": 4,
 "nbformat_minor": 5
}
